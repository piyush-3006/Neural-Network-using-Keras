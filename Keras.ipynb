{
 "cells": [
  {
   "cell_type": "code",
   "execution_count": null,
   "metadata": {},
   "outputs": [],
   "source": [
    "import numpy as np\n",
    "import matplotlib.pyplot as plt\n",
    "import keras\n",
    "from keras.datasets import mnist\n",
    "from keras.models import Model\n",
    "from keras.callbacks import TensorBoard\n",
    "from keras.layers import Input, Dense, Reshape, Dropout\n",
    "from keras.optimizers import SGD, Adam"
   ]
  },
  {
   "cell_type": "code",
   "execution_count": null,
   "metadata": {
    "collapsed": true
   },
   "outputs": [],
   "source": [
    "lr = 0.1\n",
    "wd = 0.01\n",
    "num_classes=10\n",
    "batch_size = 128\n",
    "num_epochs = 5"
   ]
  },
  {
   "cell_type": "code",
   "execution_count": null,
   "metadata": {
    "collapsed": true
   },
   "outputs": [],
   "source": [
    "(x_train, y_train), (x_test, y_test) = mnist.load_data()\n",
    "x_train = x_train.reshape(60000,-1)\n",
    "x_test = x_test.reshape(10000,-1)\n",
    "y_train_new = keras.utils.to_categorical(y_train, num_classes)\n",
    "y_test_new = keras.utils.to_categorical(y_test, num_classes)"
   ]
  },
  {
   "cell_type": "code",
   "execution_count": null,
   "metadata": {
    "collapsed": true
   },
   "outputs": [],
   "source": [
    "def buildModel(x_train, y_train, x_test, y_test):\n",
    "\n",
    "\tinput_img = Input(shape=(784,))\n",
    "\n",
    "\tdense_1 = Dense(512,activation='relu')(input_img)\n",
    "\n",
    "\tdense_2 = Dense(256, activation = 'relu')(dense_1)\n",
    "\n",
    "\tdense_3 = Dense(256, activation = 'relu')(dense_2)\n",
    "\n",
    "\tdense_4 = Dense(256, activation = 'relu')(dense_3)\n",
    "\n",
    "\toutput = Dense(1, activation='relu')(dense_4)\n",
    "\n",
    "\tmodel = Model(input_img, output)\n",
    "\n",
    "\t# autoencoder.compile(optimizer='adadelta', loss='binary_crossentropy')\n",
    "\tsgd = SGD(lr=lr, decay=1e-3, momentum=0.9, nesterov=True, clipvalue=5.0)\n",
    "\n",
    "\tmodel.compile(loss='mean_squared_error', optimizer=sgd)\n",
    "\n",
    "\tprint (model.summary())\n",
    "\n",
    "\tmodel.fit(x_train, y_train, \n",
    "\t\t\t\tnb_epoch=num_epochs, \n",
    "\t\t\t\tbatch_size=batch_size, \n",
    "\t\t\t\tshuffle=True, \n",
    "\t\t\t\tvalidation_data=(x_test, y_test))\n",
    "\n",
    "\treturn model"
   ]
  },
  {
   "cell_type": "code",
   "execution_count": null,
   "metadata": {
    "collapsed": true
   },
   "outputs": [],
   "source": [
    "from keras.layers import Input, Dense, Conv2D, MaxPooling2D, UpSampling2D\n",
    "from keras.models import Model\n",
    "from keras import backend as K"
   ]
  },
  {
   "cell_type": "code",
   "execution_count": null,
   "metadata": {
    "collapsed": true
   },
   "outputs": [],
   "source": [
    "def buildConvModel(x_train, y_train, x_test, y_test):\n",
    "    input_img = Input(shape=(784,))\n",
    "    reshape_1 = Reshape((28,28,1))(input_img)\n",
    "    x= Conv2D(16,(3,3), activation = 'relu', padding ='same')(reshape_1)\n",
    "    x = MaxPooling2D((2,2),padding='same')(x)\n",
    "    x= Conv2D(8,(3,3), activation = 'relu', padding ='same')(x)\n",
    "    x = MaxPooling2D((2,2),padding='same')(x)\n",
    "    x= Conv2D(8,(3,3), activation = 'relu', padding ='same')(x)\n",
    "    x = MaxPooling2D((2,2),padding='same')(x)\n",
    "    reshape = Reshape((128,))(x)\n",
    "    dense_4 = Dense(256, activation = 'relu')(reshape)\n",
    "    output = Dense(1, activation='relu')(dense_4)\n",
    "    model = Model(input_img, output)\n",
    "    # autoencoder.compile(optimizer='adadelta', loss='binary_crossentropy')\n",
    "    sgd = SGD(lr=lr, decay=1e-3, momentum=0.9, nesterov=True, clipvalue=5.0)\n",
    "    model.compile(loss='mean_squared_error', optimizer=sgd)\n",
    "    print (model.summary())\n",
    "    model.fit(x_train, y_train,\n",
    "                nb_epoch=num_epochs,\n",
    "                batch_size=batch_size,\n",
    "                shuffle=True,\n",
    "                validation_data=(x_test, y_test))\n",
    "    return model"
   ]
  },
  {
   "cell_type": "code",
   "execution_count": null,
   "metadata": {
    "collapsed": true
   },
   "outputs": [],
   "source": [
    "def buildClassModel(x_train, y_train, x_test, y_test):\n",
    "\n",
    "\tinput_img = Input(shape=(784,))\n",
    "\n",
    "\tdense_1 = Dense(512,activation='relu')(input_img)\n",
    "\n",
    "\tdense_2 = Dense(256, activation = 'relu')(dense_1)\n",
    "\n",
    "\tdense_3 = Dense(256, activation = 'relu')(dense_2)\n",
    "\n",
    "\tdense_4 = Dense(256, activation = 'relu')(dense_3)\n",
    "\n",
    "\toutput = Dense(10, activation='sigmoid')(dense_4)\n",
    "\n",
    "\tmodel = Model(input_img, output)\n",
    "\n",
    "\t# autoencoder.compile(optimizer='adadelta', loss='binary_crossentropy')\n",
    "\tsgd = SGD(lr=lr, decay=1e-3, momentum=0.9, nesterov=True, clipvalue=5.0)\n",
    "\n",
    "\tmodel.compile(loss=keras.losses.categorical_crossentropy,\n",
    "              optimizer=sgd,\n",
    "              metrics=['accuracy'])\n",
    "\n",
    "\tprint (model.summary())\n",
    "\n",
    "\tmodel.fit(x_train, y_train, \n",
    "\t\t\t\tnb_epoch=num_epochs, \n",
    "\t\t\t\tbatch_size=batch_size, \n",
    "\t\t\t\tshuffle=True, \n",
    "\t\t\t\tvalidation_data=(x_test, y_test))\n",
    "\n",
    "\treturn model"
   ]
  },
  {
   "cell_type": "code",
   "execution_count": null,
   "metadata": {},
   "outputs": [],
   "source": [
    "def main():\n",
    "\n",
    "\tmodel = buildModel(x_train, y_train, x_test, y_test)\n",
    "\tmodel2 = buildConvModel(x_train, y_train, x_test, y_test)\n",
    "\tmodel3 = buildClassModel(x_train, y_train_new, x_test, y_test_new)\n",
    "    \n",
    "    \n",
    "\t# decoded_imgs = autoencoder.predict(x_test)\n",
    "\n",
    "\tpass\n",
    "\n",
    "if __name__ == '__main__':\n",
    "\tmain()"
   ]
  },
  {
   "cell_type": "code",
   "execution_count": null,
   "metadata": {
    "collapsed": true
   },
   "outputs": [],
   "source": [
    "ans =np.argmax(model3.predict(X_test),axis=1)"
   ]
  },
  {
   "cell_type": "code",
   "execution_count": null,
   "metadata": {
    "collapsed": true
   },
   "outputs": [],
   "source": [
    "ans.shape"
   ]
  }
 ],
 "metadata": {
  "kernelspec": {
   "display_name": "Python 3",
   "language": "python",
   "name": "python3"
  },
  "language_info": {
   "codemirror_mode": {
    "name": "ipython",
    "version": 3
   },
   "file_extension": ".py",
   "mimetype": "text/x-python",
   "name": "python",
   "nbconvert_exporter": "python",
   "pygments_lexer": "ipython3",
   "version": "3.5.2"
  },
  "widgets": {
   "state": {},
   "version": "1.1.2"
  }
 },
 "nbformat": 4,
 "nbformat_minor": 2
}
